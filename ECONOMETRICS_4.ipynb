{
 "cells": [
  {
   "cell_type": "markdown",
   "metadata": {},
   "source": [
    "Econometrics5 pg. 95, 98 <br>\n",
    "MA 모형"
   ]
  },
  {
   "cell_type": "code",
   "execution_count": 1,
   "metadata": {},
   "outputs": [],
   "source": [
    "#약안정성, 에르고딕성 만족할 경우 시계열분석 가능\n",
    "#MA(1), MA(q)는 특별한 조건 없더라도 약안정성/에르고딕성 만족"
   ]
  },
  {
   "cell_type": "code",
   "execution_count": 2,
   "metadata": {},
   "outputs": [],
   "source": [
    "#현재의 시계열이 현재 및 과거 오차항에 의해서만 영향을 받을 경우\n",
    "#즉, 오차항이 미래의 변수에 영향을 미치는 관계: MA 모형\n",
    "#오차항이 white noise일 경우 MA모형은 안정적 확률과정이며 1차 적률에 대한 에르고딕 과정임\n",
    "#MA(q)모형 = 약안정성, 에르고딕성 만족. 따라서 시계열분석에서 사용가능한 모형"
   ]
  },
  {
   "cell_type": "markdown",
   "metadata": {},
   "source": [
    "AR 모형 (Econometrics5 pg. 99)"
   ]
  },
  {
   "cell_type": "code",
   "execution_count": 3,
   "metadata": {},
   "outputs": [],
   "source": [
    "#과거 자기 변수가 미래의 자기 변수에 영향을 미치는 관계: AR모형\n",
    "#자기변수의 과거 값들이 미래의 자기변수 값의 평균 수준으로 회귀하는 현상"
   ]
  },
  {
   "cell_type": "code",
   "execution_count": 4,
   "metadata": {},
   "outputs": [],
   "source": [
    "#econometrics5 pg.101\n",
    "#MA의 경우 오차항의 영향만 고려 (즉, 임의의 알수 없는 충격만 점점 고차시계열로 영향을 미침)\n",
    "#AR의 경우 과거의 오차항뿐만 아니라 그 전기의 y값과 상수항의 영향을 모두 Y_t에 영향을 미치는 변수로 봄\n",
    "#따라서 AR이 MA보다는 좀더 많은 시계열의 영향력을 고려한 모형이다 라고 할수 있음"
   ]
  },
  {
   "cell_type": "markdown",
   "metadata": {},
   "source": [
    "econometrics5 pg. 104 <br>\n",
    "AR(1): Y_t = a0 + a1*Y_t-1 + e_t <br>\n",
    "if |a1| < 1: stationary <br>\n",
    "if |a1| > 1: AR(1)->무한대 -> not stationary <br>\n",
    "if |a1| = 1: random walk process (대표적인 불안정 시계열)"
   ]
  },
  {
   "cell_type": "code",
   "execution_count": 5,
   "metadata": {},
   "outputs": [],
   "source": [
    "#즉, a1 < 1 인 AR(1)은 weak stationary 모형이다"
   ]
  },
  {
   "cell_type": "markdown",
   "metadata": {},
   "source": [
    "econometrics5 pg.132 <br>\n",
    "AR(p)의 경우 |lambda| < 1 조건 만족시 약안정성조건 만족"
   ]
  },
  {
   "cell_type": "code",
   "execution_count": 6,
   "metadata": {},
   "outputs": [],
   "source": [
    "# AR(2): Y_t = a0 + a1*Y_t-1 + a2*Y_t-2 + e_t (econometrics5 pg.103)\n",
    "# AR(p): Y_t = a0 + a1*Y_t-1 + a2*Y_t-2 + ... + ap*y_t-p + e_t (econometrics5 pg.129)"
   ]
  },
  {
   "cell_type": "markdown",
   "metadata": {},
   "source": [
    "econometrics5 pg.133 <br>\n",
    "AR모형-충격반응분석 <br>\n",
    "충격반응분석(Impulse Response Analysis): j기 전 오차항에 의한 충격이 발생했을 때 각 시점별 영향력을 측정하는 분석방법 <br>\n",
    "목적: 충격의 지속시간 분석, 충격의 정도 분석 <br>\n",
    "충격이 발생했을 때 각 시점별로 얼마나 영향을 미치는지 측정 <br>\n",
    "충격반응분석의 활용: 외부에서 발생한 외생적 충격이 시계열 변수에 미치는 영향(영향의 크기 및 지속시간) 분석"
   ]
  },
  {
   "cell_type": "code",
   "execution_count": null,
   "metadata": {},
   "outputs": [],
   "source": [
    "#econometrics5 pg.135\n",
    "#AR은 자기변수 과거값->현재 영향 미치는 구조\n",
    "#이 때 오차항은 자기변수 과거값에 의해 설명되지 않는 나머지 부분\n",
    "#즉, 이 시계열(Yt)가 아니라 외부적인 영향에 의한 충격이라 할 수 있음 (외부의 외생적 충격)\n",
    "#이 충격이 시계열(Y)에 미치는 영향 분석(크기, 지속시간)이 IRA"
   ]
  },
  {
   "cell_type": "markdown",
   "metadata": {},
   "source": [
    "econometrics5 pg.149\n",
    "시계열의 안정성 검정 - 자기상관 검정 <br>\n",
    "ACF: 자기상관함수 (직/간접 영향 모두 포함) <br>\n",
    "PACF: 편자기상관함수 (직접 영향만) <br>\n",
    "<br>\n",
    "자기상관검정: 자기상관함수와 편자기상관함수를 통해 시계열의 안정성을 검정하는 방법 <br>\n",
    "안정적 시계열이라면, 자기상관함수와 편자기상관함수가 장기적으로 0에 수렴 <br>\n",
    "검정방법: t-1기에서 시작하여 순차적으로 표본 ACF와 표본 PACF가 0인지 검정 <br>\n",
    "검정 전에 그래프를 통해 표본ACF와 표본PACF가 장기적으로 감소하며 0에 수렴하는지 확인해야 함 <br>"
   ]
  },
  {
   "cell_type": "code",
   "execution_count": null,
   "metadata": {},
   "outputs": [],
   "source": []
  },
  {
   "cell_type": "code",
   "execution_count": null,
   "metadata": {},
   "outputs": [],
   "source": []
  }
 ],
 "metadata": {
  "kernelspec": {
   "display_name": "Python 3.10.7 64-bit",
   "language": "python",
   "name": "python3"
  },
  "language_info": {
   "codemirror_mode": {
    "name": "ipython",
    "version": 3
   },
   "file_extension": ".py",
   "mimetype": "text/x-python",
   "name": "python",
   "nbconvert_exporter": "python",
   "pygments_lexer": "ipython3",
   "version": "3.10.7"
  },
  "orig_nbformat": 4,
  "vscode": {
   "interpreter": {
    "hash": "e3a2d55e2b7847c21802bd14d7498b583363bcf78edda0f72765dd1843b5d1bb"
   }
  }
 },
 "nbformat": 4,
 "nbformat_minor": 2
}
